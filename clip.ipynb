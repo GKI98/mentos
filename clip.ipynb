{
 "cells": [
  {
   "cell_type": "code",
   "execution_count": 27,
   "metadata": {},
   "outputs": [
    {
     "name": "stdout",
     "output_type": "stream",
     "text": [
      "\n",
      "Top predictions:\n",
      "\n",
      "hulk: 8.72%\n",
      "iron men: 90.58%\n",
      "black widow: 0.70%\n"
     ]
    }
   ],
   "source": [
    "import torch\n",
    "import requests\n",
    "import clip\n",
    "import numpy as np\n",
    "from PIL import Image\n",
    "import requests\n",
    "\n",
    "\n",
    "def do_clip(url: str, text_snippets: list[str]) -> None:\n",
    "\n",
    "    device = \"cuda\" if torch.cuda.is_available() else \"cpu\"\n",
    "    model, preprocess = clip.load(\"ViT-B/32\", device=device)\n",
    "\n",
    "    text = clip.tokenize(text_snippets).to(device)\n",
    "    image_input = Image.open(requests.get(url, stream=True).raw)\n",
    "    image_input = preprocess(image_input).unsqueeze(0).to(device)\n",
    "\n",
    "    with torch.no_grad():\n",
    "        image_features = model.encode_image(image_input)\n",
    "        logits_per_image, _ = model(image_input, text)\n",
    "        probs = logits_per_image.softmax(dim=-1).cpu().numpy()\n",
    "\n",
    "    print(\"\\nTop predictions:\\n\")\n",
    "    for value, index in zip(probs[0], text_snippets):\n",
    "        print(f\"{index}: {100 * value.item():.2f}%\")\n",
    "\n",
    "\n",
    "# avengers picture\n",
    "url = 'https://cdn.kanobu.ru/games/f8ffb106-1d6b-497c-8b12-3943d570ddc3.jpg'\n",
    "text_snippets = [\"hulk\", \"iron men\", \"black widow\"]\n",
    "\n",
    "do_clip(url, text_snippets)"
   ]
  }
 ],
 "metadata": {
  "kernelspec": {
   "display_name": "Python 3.9.15 ('venv': venv)",
   "language": "python",
   "name": "python3"
  },
  "language_info": {
   "codemirror_mode": {
    "name": "ipython",
    "version": 3
   },
   "file_extension": ".py",
   "mimetype": "text/x-python",
   "name": "python",
   "nbconvert_exporter": "python",
   "pygments_lexer": "ipython3",
   "version": "3.9.16"
  },
  "orig_nbformat": 4,
  "vscode": {
   "interpreter": {
    "hash": "a0ae4fa97a57fd8d950a2fae74bbb6f77555dfa0963c93066e74e2214e6bf19f"
   }
  }
 },
 "nbformat": 4,
 "nbformat_minor": 2
}
